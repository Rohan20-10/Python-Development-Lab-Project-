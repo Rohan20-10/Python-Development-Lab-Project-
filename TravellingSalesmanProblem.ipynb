{
  "nbformat": 4,
  "nbformat_minor": 0,
  "metadata": {
    "colab": {
      "provenance": [],
      "include_colab_link": true
    },
    "kernelspec": {
      "name": "python3",
      "display_name": "Python 3"
    },
    "language_info": {
      "name": "python"
    }
  },
  "cells": [
    {
      "cell_type": "markdown",
      "metadata": {
        "id": "view-in-github",
        "colab_type": "text"
      },
      "source": [
        "<a href=\"https://colab.research.google.com/github/Rohan20-10/Python-Development-Lab-Project-/blob/main/TravellingSalesmanProblem.ipynb\" target=\"_parent\"><img src=\"https://colab.research.google.com/assets/colab-badge.svg\" alt=\"Open In Colab\"/></a>"
      ]
    },
    {
      "cell_type": "code",
      "execution_count": null,
      "metadata": {
        "id": "QYjAt63zIH9G"
      },
      "outputs": [],
      "source": [
        "import random\n",
        "import math\n",
        "def main():\n",
        "  cities = [(51.50826,-0.12750),(40.71055,-73.99760),(-33.86719,151.20932),(-33.90922,18.40312),(-19.08412,72.88117),(-35.81003,139.76875),(-22.90747,-43.20161)]\n",
        "  order = [x for x in range(len(cities))]\n",
        "  population = []\n",
        "  popsize = 50\n",
        "  fitness = []\n",
        "  minDist =  float('inf')\n",
        "  for i in range(popsize):\n",
        "    random.shuffle(order)\n",
        "    x = order.copy()\n",
        "    x.append(order[0])\n",
        "    population.append(x.copy()) # Use order.copy() to store a copy of the shuffled order\n",
        "  while True:\n",
        "    fitness = calcFitness(population,cities,fitness,minDist)\n",
        "    fitness = normalizeFitness(fitness) # mapping fitness val into probabilities\n",
        "    newPopulation = nextGeneration(population,fitness,order)\n",
        "    population = newPopulation\n",
        "    fitness = [] # to get a new set of values at each generation\n",
        "\n",
        "def calcFitness(population,cities,fitness,minDist):\n",
        "  currentDist = float('inf')\n",
        "  for route in population:\n",
        "    distance = calcDistance(cities,route)\n",
        "    if distance < minDist:\n",
        "      minDist = distance\n",
        "      bestRoute = route\n",
        "    if distance < currentDist:\n",
        "      currentDist = distance\n",
        "      currentRoute = route\n",
        "    #print(\"Current Route :\",route)\n",
        "    fitness.append(1/(distance+1)) # distance+1 so as to avoid dividebyzero exception ie an ideal case\n",
        "  print(\"Best Route :\",bestRoute)\n",
        "  return fitness\n",
        "\n",
        "def calcDistance(cities,route):\n",
        "  sum = 0.0\n",
        "  for i in range(len(route)-1):\n",
        "    city1 = route[i]\n",
        "    city2 = route[i+1]\n",
        "    sum += math.dist((cities[city1][0],cities[city2][0]),(cities[city1][1],cities[city2][1])) # math.dist() requires 2 tuples\n",
        "  return sum\n",
        "\n",
        "def normalizeFitness(fitness):\n",
        "  total_fitness = sum(fitness)\n",
        "  fitness = [x/total_fitness for x in fitness]\n",
        "  return fitness\n",
        "\n",
        "def nextGeneration(population,fitness,order):\n",
        "  newPopulation = []\n",
        "  for i in range(len(population)):\n",
        "    orderA = pickOne(population,fitness)\n",
        "    orderB = pickOne(population,fitness)\n",
        "    new_order = crossover(orderA.copy(),orderB.copy())\n",
        "    new_order1 = mutation(new_order.copy(),0.01)\n",
        "    newPopulation.append(new_order1)\n",
        "  return newPopulation\n",
        "\n",
        "def pickOne(population,fitness):\n",
        "  index = 0\n",
        "  r = random.random() # generates random number between 0.0 & 1.0\n",
        "  while r>0:\n",
        "    r = r - fitness[index]\n",
        "    index+=1\n",
        "  index-=1 # bcoz it first increments & then gets rejected from loop\n",
        "  return population[index]\n",
        "\n",
        "def mutation(new_order,mutationRate):\n",
        "  new_order.pop()\n",
        "  for i in range(len(new_order)):\n",
        "    if random.random()<mutationRate:\n",
        "      firstIndex = random.randrange(len(new_order))\n",
        "      secondIndex = random.randrange(len(new_order))\n",
        "      swap(new_order,firstIndex,secondIndex)\n",
        "  new_order.append(new_order[0])\n",
        "  return new_order\n",
        "\n",
        "def crossover(orderA,orderB):\n",
        "  orderA.pop()\n",
        "  orderB.pop()\n",
        "  start = random.randrange(len(orderA)-1)\n",
        "  end = random.randrange((start+1),len(orderA))\n",
        "  newOrder = orderA[slice(start,end)]\n",
        "  for i in orderB:\n",
        "    if i not in newOrder:\n",
        "      newOrder.append(i)\n",
        "  newOrder.append(newOrder[0])\n",
        "  orderA.append(orderA[0])\n",
        "  orderB.append(orderB[0])\n",
        "  return newOrder\n",
        "\n",
        "def swap(new_order,firstIndex,secondIndex):\n",
        "  temp = new_order[firstIndex]\n",
        "  new_order[firstIndex] = new_order[secondIndex]\n",
        "  new_order[secondIndex] = temp\n",
        "  return new_order\n",
        "\n",
        "main()"
      ]
    },
    {
      "cell_type": "code",
      "source": [],
      "metadata": {
        "id": "2RoWLidA-29e"
      },
      "execution_count": null,
      "outputs": []
    }
  ]
}